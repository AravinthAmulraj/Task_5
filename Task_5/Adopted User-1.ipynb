{
 "cells": [
  {
   "cell_type": "markdown",
   "id": "43f8e29c",
   "metadata": {},
   "source": [
    "# Loading up the given data anf previewing:"
   ]
  },
  {
   "cell_type": "code",
   "execution_count": 1,
   "id": "7f2db0a3",
   "metadata": {},
   "outputs": [],
   "source": [
    "# importing important modules\n",
    "import pandas as pd\n",
    "import numpy as np\n",
    "\n",
    "# Loading given data\n",
    "users = pd.read_csv('takehome_users.csv',encoding = \"latin-1\",parse_dates = True)\n",
    "engage = pd.read_csv('takehome_user_engagement.csv',parse_dates = True)\n"
   ]
  },
  {
   "cell_type": "code",
   "execution_count": 2,
   "id": "d80f625f",
   "metadata": {},
   "outputs": [
    {
     "data": {
      "text/html": [
       "<div>\n",
       "<style scoped>\n",
       "    .dataframe tbody tr th:only-of-type {\n",
       "        vertical-align: middle;\n",
       "    }\n",
       "\n",
       "    .dataframe tbody tr th {\n",
       "        vertical-align: top;\n",
       "    }\n",
       "\n",
       "    .dataframe thead th {\n",
       "        text-align: right;\n",
       "    }\n",
       "</style>\n",
       "<table border=\"1\" class=\"dataframe\">\n",
       "  <thead>\n",
       "    <tr style=\"text-align: right;\">\n",
       "      <th></th>\n",
       "      <th>object_id</th>\n",
       "      <th>creation_time</th>\n",
       "      <th>name</th>\n",
       "      <th>email</th>\n",
       "      <th>creation_source</th>\n",
       "      <th>last_session_creation_time</th>\n",
       "      <th>opted_in_to_mailing_list</th>\n",
       "      <th>enabled_for_marketing_drip</th>\n",
       "      <th>org_id</th>\n",
       "      <th>invited_by_user_id</th>\n",
       "    </tr>\n",
       "  </thead>\n",
       "  <tbody>\n",
       "    <tr>\n",
       "      <th>0</th>\n",
       "      <td>1</td>\n",
       "      <td>2014-04-22 03:53:30</td>\n",
       "      <td>Clausen August</td>\n",
       "      <td>AugustCClausen@yahoo.com</td>\n",
       "      <td>GUEST_INVITE</td>\n",
       "      <td>1.398139e+09</td>\n",
       "      <td>1</td>\n",
       "      <td>0</td>\n",
       "      <td>11</td>\n",
       "      <td>10803.0</td>\n",
       "    </tr>\n",
       "    <tr>\n",
       "      <th>1</th>\n",
       "      <td>2</td>\n",
       "      <td>2013-11-15 03:45:04</td>\n",
       "      <td>Poole Matthew</td>\n",
       "      <td>MatthewPoole@gustr.com</td>\n",
       "      <td>ORG_INVITE</td>\n",
       "      <td>1.396238e+09</td>\n",
       "      <td>0</td>\n",
       "      <td>0</td>\n",
       "      <td>1</td>\n",
       "      <td>316.0</td>\n",
       "    </tr>\n",
       "    <tr>\n",
       "      <th>2</th>\n",
       "      <td>3</td>\n",
       "      <td>2013-03-19 23:14:52</td>\n",
       "      <td>Bottrill Mitchell</td>\n",
       "      <td>MitchellBottrill@gustr.com</td>\n",
       "      <td>ORG_INVITE</td>\n",
       "      <td>1.363735e+09</td>\n",
       "      <td>0</td>\n",
       "      <td>0</td>\n",
       "      <td>94</td>\n",
       "      <td>1525.0</td>\n",
       "    </tr>\n",
       "    <tr>\n",
       "      <th>3</th>\n",
       "      <td>4</td>\n",
       "      <td>2013-05-21 08:09:28</td>\n",
       "      <td>Clausen Nicklas</td>\n",
       "      <td>NicklasSClausen@yahoo.com</td>\n",
       "      <td>GUEST_INVITE</td>\n",
       "      <td>1.369210e+09</td>\n",
       "      <td>0</td>\n",
       "      <td>0</td>\n",
       "      <td>1</td>\n",
       "      <td>5151.0</td>\n",
       "    </tr>\n",
       "    <tr>\n",
       "      <th>4</th>\n",
       "      <td>5</td>\n",
       "      <td>2013-01-17 10:14:20</td>\n",
       "      <td>Raw Grace</td>\n",
       "      <td>GraceRaw@yahoo.com</td>\n",
       "      <td>GUEST_INVITE</td>\n",
       "      <td>1.358850e+09</td>\n",
       "      <td>0</td>\n",
       "      <td>0</td>\n",
       "      <td>193</td>\n",
       "      <td>5240.0</td>\n",
       "    </tr>\n",
       "  </tbody>\n",
       "</table>\n",
       "</div>"
      ],
      "text/plain": [
       "   object_id        creation_time               name  \\\n",
       "0          1  2014-04-22 03:53:30     Clausen August   \n",
       "1          2  2013-11-15 03:45:04      Poole Matthew   \n",
       "2          3  2013-03-19 23:14:52  Bottrill Mitchell   \n",
       "3          4  2013-05-21 08:09:28    Clausen Nicklas   \n",
       "4          5  2013-01-17 10:14:20          Raw Grace   \n",
       "\n",
       "                        email creation_source  last_session_creation_time  \\\n",
       "0    AugustCClausen@yahoo.com    GUEST_INVITE                1.398139e+09   \n",
       "1      MatthewPoole@gustr.com      ORG_INVITE                1.396238e+09   \n",
       "2  MitchellBottrill@gustr.com      ORG_INVITE                1.363735e+09   \n",
       "3   NicklasSClausen@yahoo.com    GUEST_INVITE                1.369210e+09   \n",
       "4          GraceRaw@yahoo.com    GUEST_INVITE                1.358850e+09   \n",
       "\n",
       "   opted_in_to_mailing_list  enabled_for_marketing_drip  org_id  \\\n",
       "0                         1                           0      11   \n",
       "1                         0                           0       1   \n",
       "2                         0                           0      94   \n",
       "3                         0                           0       1   \n",
       "4                         0                           0     193   \n",
       "\n",
       "   invited_by_user_id  \n",
       "0             10803.0  \n",
       "1               316.0  \n",
       "2              1525.0  \n",
       "3              5151.0  \n",
       "4              5240.0  "
      ]
     },
     "execution_count": 2,
     "metadata": {},
     "output_type": "execute_result"
    }
   ],
   "source": [
    "# Display data\n",
    "users.head()"
   ]
  },
  {
   "cell_type": "code",
   "execution_count": 3,
   "id": "555b3afb",
   "metadata": {},
   "outputs": [
    {
     "data": {
      "text/html": [
       "<div>\n",
       "<style scoped>\n",
       "    .dataframe tbody tr th:only-of-type {\n",
       "        vertical-align: middle;\n",
       "    }\n",
       "\n",
       "    .dataframe tbody tr th {\n",
       "        vertical-align: top;\n",
       "    }\n",
       "\n",
       "    .dataframe thead th {\n",
       "        text-align: right;\n",
       "    }\n",
       "</style>\n",
       "<table border=\"1\" class=\"dataframe\">\n",
       "  <thead>\n",
       "    <tr style=\"text-align: right;\">\n",
       "      <th></th>\n",
       "      <th>time_stamp</th>\n",
       "      <th>user_id</th>\n",
       "      <th>visited</th>\n",
       "    </tr>\n",
       "  </thead>\n",
       "  <tbody>\n",
       "    <tr>\n",
       "      <th>0</th>\n",
       "      <td>2014-04-22 03:53:30</td>\n",
       "      <td>1</td>\n",
       "      <td>1</td>\n",
       "    </tr>\n",
       "    <tr>\n",
       "      <th>1</th>\n",
       "      <td>2013-11-15 03:45:04</td>\n",
       "      <td>2</td>\n",
       "      <td>1</td>\n",
       "    </tr>\n",
       "    <tr>\n",
       "      <th>2</th>\n",
       "      <td>2013-11-29 03:45:04</td>\n",
       "      <td>2</td>\n",
       "      <td>1</td>\n",
       "    </tr>\n",
       "    <tr>\n",
       "      <th>3</th>\n",
       "      <td>2013-12-09 03:45:04</td>\n",
       "      <td>2</td>\n",
       "      <td>1</td>\n",
       "    </tr>\n",
       "    <tr>\n",
       "      <th>4</th>\n",
       "      <td>2013-12-25 03:45:04</td>\n",
       "      <td>2</td>\n",
       "      <td>1</td>\n",
       "    </tr>\n",
       "  </tbody>\n",
       "</table>\n",
       "</div>"
      ],
      "text/plain": [
       "            time_stamp  user_id  visited\n",
       "0  2014-04-22 03:53:30        1        1\n",
       "1  2013-11-15 03:45:04        2        1\n",
       "2  2013-11-29 03:45:04        2        1\n",
       "3  2013-12-09 03:45:04        2        1\n",
       "4  2013-12-25 03:45:04        2        1"
      ]
     },
     "execution_count": 3,
     "metadata": {},
     "output_type": "execute_result"
    }
   ],
   "source": [
    "# Display data\n",
    "engage.head()"
   ]
  },
  {
   "cell_type": "code",
   "execution_count": 6,
   "id": "43fbf8f3",
   "metadata": {},
   "outputs": [
    {
     "data": {
      "text/plain": [
       "Index(['object_id', 'creation_time', 'name', 'email', 'creation_source',\n",
       "       'last_session_creation_time', 'opted_in_to_mailing_list',\n",
       "       'enabled_for_marketing_drip', 'org_id', 'invited_by_user_id'],\n",
       "      dtype='object')"
      ]
     },
     "execution_count": 6,
     "metadata": {},
     "output_type": "execute_result"
    }
   ],
   "source": [
    "users.columns"
   ]
  },
  {
   "cell_type": "code",
   "execution_count": 7,
   "id": "05bd6b4c",
   "metadata": {},
   "outputs": [
    {
     "data": {
      "text/plain": [
       "Index(['time_stamp', 'user_id', 'visited'], dtype='object')"
      ]
     },
     "execution_count": 7,
     "metadata": {},
     "output_type": "execute_result"
    }
   ],
   "source": [
    "engage.columns"
   ]
  },
  {
   "cell_type": "markdown",
   "id": "a8f78a60",
   "metadata": {},
   "source": [
    "# Labelling users as Adopted"
   ]
  },
  {
   "cell_type": "code",
   "execution_count": 8,
   "id": "f3bc40ef",
   "metadata": {},
   "outputs": [],
   "source": [
    "# Set time_stamp to datetime and set it as index \n",
    "import datetime\n",
    "engage.time_stamp = pd.to_datetime(engage.time_stamp)\n",
    "engage = engage.set_index('time_stamp', drop = True)"
   ]
  },
  {
   "cell_type": "markdown",
   "id": "66953d3c",
   "metadata": {},
   "source": [
    "### Keeping users who have logged at least 3 days:"
   ]
  },
  {
   "cell_type": "code",
   "execution_count": 9,
   "id": "922d6104",
   "metadata": {},
   "outputs": [],
   "source": [
    "from datetime import timedelta\n",
    "def label_adopted(x):\n",
    "    \"takes a users input and return whether or not they have been active within any 7-day period\"\n",
    "    df_temp = engage.loc[engage['user_id'] == x] #select out rows of this user\n",
    "    df_temp = df_temp.resample('D').mean().dropna() #resample to show if active in a day. .mean() is just of 1\n",
    "    adopted = 0\n",
    "    for i in range(len(df_temp)-2): #loop over active days till the second to last day\n",
    "        if df_temp.index[i + 2] - df_temp.index[i] <= timedelta(days=7): # difference between every 1st and 3rd day\n",
    "            adopted = 1\n",
    "            break\n",
    "        else:\n",
    "            adopted = 0\n",
    "    return adopted"
   ]
  },
  {
   "cell_type": "code",
   "execution_count": 10,
   "id": "33deef59",
   "metadata": {},
   "outputs": [],
   "source": [
    "#applying the user df to label users as adopted=true \n",
    "users['adopted_user'] = users['object_id'].apply(label_adopted)"
   ]
  },
  {
   "cell_type": "markdown",
   "id": "e8d20420",
   "metadata": {},
   "source": [
    "### Showing the active users"
   ]
  },
  {
   "cell_type": "code",
   "execution_count": 11,
   "id": "9d1c46b6",
   "metadata": {},
   "outputs": [
    {
     "name": "stdout",
     "output_type": "stream",
     "text": [
      "1656\n",
      "0.138\n"
     ]
    }
   ],
   "source": [
    "print(sum(users['adopted_user']))\n",
    "print(sum(users.adopted_user)/len(users.adopted_user))"
   ]
  },
  {
   "cell_type": "markdown",
   "id": "ec11b034",
   "metadata": {},
   "source": [
    "#### By Subtract the creation_time from the last_session_creation_time to create a feature that combines the two in a meaningful way. This will give us feature usage_length that basically indicates how long a user has been active."
   ]
  },
  {
   "cell_type": "code",
   "execution_count": 12,
   "id": "40b21c4e",
   "metadata": {},
   "outputs": [],
   "source": [
    "# set creation_time\n",
    "users.creation_time = pd.to_datetime(users.creation_time)\n",
    "#last_session_creation_time is a unix time stamp, so use map to convert to datetime\n",
    "users['last_session_creation_time'] = users['last_session_creation_time'].map(lambda data: \n",
    "                                    datetime.datetime.fromtimestamp(int(data)).strftime('%Y-%m-%d %H:%M:%S'),\n",
    "                                                                              na_action='ignore')"
   ]
  },
  {
   "cell_type": "code",
   "execution_count": 13,
   "id": "af677e18",
   "metadata": {},
   "outputs": [],
   "source": [
    "#now set that to datetime\n",
    "users['last_session_creation_time'] = pd.to_datetime(users['last_session_creation_time'])\n",
    "#subtract to find time active\n",
    "users['usage_length'] = users['last_session_creation_time'] - users['creation_time']\n",
    "#lets settle for seconds instead of days to make the time differences more distinct\n",
    "users['usage_length'] = [x.total_seconds() for x in users['usage_length']]"
   ]
  },
  {
   "cell_type": "markdown",
   "id": "905206b1",
   "metadata": {},
   "source": [
    "#### we can also use email domain as a feature as well. There are only a few main ones, so I will label the less popular domains as other."
   ]
  },
  {
   "cell_type": "code",
   "execution_count": 14,
   "id": "e7df6331",
   "metadata": {},
   "outputs": [],
   "source": [
    "users['email_provider'] = [x.split('@')[1] for x in users.email]#select out the domain\n",
    "top_emails = users.email_provider.value_counts().index[:6]\n",
    "#label anything not in the top 5 as other\n",
    "users['email_provider'] = [x if x in top_emails else 'other' for x in users.email_provider]"
   ]
  },
  {
   "cell_type": "markdown",
   "id": "eb9afebf",
   "metadata": {},
   "source": [
    "##### first the emtpy values must be filled to be categorized."
   ]
  },
  {
   "cell_type": "code",
   "execution_count": 15,
   "id": "020022fe",
   "metadata": {},
   "outputs": [],
   "source": [
    "users.invited_by_user_id = users.invited_by_user_id.fillna(0)"
   ]
  },
  {
   "cell_type": "markdown",
   "id": "b3ee8e1f",
   "metadata": {},
   "source": [
    "##### remove the columns containing features that won't be useful for analysis\n",
    "##### This includes object_id creation_time name email and last_session_creation_time."
   ]
  },
  {
   "cell_type": "code",
   "execution_count": 16,
   "id": "db7eab75",
   "metadata": {},
   "outputs": [],
   "source": [
    "feature_df = users.iloc[:,4:]\n",
    "feature_df = feature_df.drop('last_session_creation_time', axis=1)\n",
    "feature_df['usage_length'] = feature_df['usage_length'].fillna(0)"
   ]
  },
  {
   "cell_type": "code",
   "execution_count": null,
   "id": "d9449862",
   "metadata": {},
   "outputs": [],
   "source": [
    "##### labelling the each category"
   ]
  },
  {
   "cell_type": "code",
   "execution_count": 17,
   "id": "f07d343e",
   "metadata": {},
   "outputs": [],
   "source": [
    "from sklearn.preprocessing import LabelEncoder\n",
    "\n",
    "gle = LabelEncoder()\n",
    "creation_labels = gle.fit_transform(users['creation_source'])\n",
    "feature_df.creation_source = creation_labels\n",
    "\n",
    "org_id_labels = gle.fit_transform(users['org_id'])\n",
    "feature_df.org_id = org_id_labels\n",
    "\n",
    "invited_labels = gle.fit_transform(users['invited_by_user_id'])\n",
    "feature_df.org_id = invited_labels\n",
    "\n",
    "email_labels = gle.fit_transform(users['email_provider'])\n",
    "feature_df.email_provider = email_labels"
   ]
  },
  {
   "cell_type": "code",
   "execution_count": 18,
   "id": "4aa8e557",
   "metadata": {},
   "outputs": [
    {
     "data": {
      "text/html": [
       "<div>\n",
       "<style scoped>\n",
       "    .dataframe tbody tr th:only-of-type {\n",
       "        vertical-align: middle;\n",
       "    }\n",
       "\n",
       "    .dataframe tbody tr th {\n",
       "        vertical-align: top;\n",
       "    }\n",
       "\n",
       "    .dataframe thead th {\n",
       "        text-align: right;\n",
       "    }\n",
       "</style>\n",
       "<table border=\"1\" class=\"dataframe\">\n",
       "  <thead>\n",
       "    <tr style=\"text-align: right;\">\n",
       "      <th></th>\n",
       "      <th>creation_source</th>\n",
       "      <th>opted_in_to_mailing_list</th>\n",
       "      <th>enabled_for_marketing_drip</th>\n",
       "      <th>org_id</th>\n",
       "      <th>invited_by_user_id</th>\n",
       "      <th>adopted_user</th>\n",
       "      <th>usage_length</th>\n",
       "      <th>email_provider</th>\n",
       "    </tr>\n",
       "  </thead>\n",
       "  <tbody>\n",
       "    <tr>\n",
       "      <th>0</th>\n",
       "      <td>0</td>\n",
       "      <td>1</td>\n",
       "      <td>0</td>\n",
       "      <td>2325</td>\n",
       "      <td>10803.0</td>\n",
       "      <td>0</td>\n",
       "      <td>19800.0</td>\n",
       "      <td>6</td>\n",
       "    </tr>\n",
       "    <tr>\n",
       "      <th>1</th>\n",
       "      <td>1</td>\n",
       "      <td>0</td>\n",
       "      <td>0</td>\n",
       "      <td>56</td>\n",
       "      <td>316.0</td>\n",
       "      <td>1</td>\n",
       "      <td>11770200.0</td>\n",
       "      <td>2</td>\n",
       "    </tr>\n",
       "    <tr>\n",
       "      <th>2</th>\n",
       "      <td>1</td>\n",
       "      <td>0</td>\n",
       "      <td>0</td>\n",
       "      <td>298</td>\n",
       "      <td>1525.0</td>\n",
       "      <td>0</td>\n",
       "      <td>19800.0</td>\n",
       "      <td>2</td>\n",
       "    </tr>\n",
       "    <tr>\n",
       "      <th>3</th>\n",
       "      <td>0</td>\n",
       "      <td>0</td>\n",
       "      <td>0</td>\n",
       "      <td>1104</td>\n",
       "      <td>5151.0</td>\n",
       "      <td>0</td>\n",
       "      <td>106200.0</td>\n",
       "      <td>6</td>\n",
       "    </tr>\n",
       "    <tr>\n",
       "      <th>4</th>\n",
       "      <td>0</td>\n",
       "      <td>0</td>\n",
       "      <td>0</td>\n",
       "      <td>1127</td>\n",
       "      <td>5240.0</td>\n",
       "      <td>0</td>\n",
       "      <td>451800.0</td>\n",
       "      <td>6</td>\n",
       "    </tr>\n",
       "  </tbody>\n",
       "</table>\n",
       "</div>"
      ],
      "text/plain": [
       "   creation_source  opted_in_to_mailing_list  enabled_for_marketing_drip  \\\n",
       "0                0                         1                           0   \n",
       "1                1                         0                           0   \n",
       "2                1                         0                           0   \n",
       "3                0                         0                           0   \n",
       "4                0                         0                           0   \n",
       "\n",
       "   org_id  invited_by_user_id  adopted_user  usage_length  email_provider  \n",
       "0    2325             10803.0             0       19800.0               6  \n",
       "1      56               316.0             1    11770200.0               2  \n",
       "2     298              1525.0             0       19800.0               2  \n",
       "3    1104              5151.0             0      106200.0               6  \n",
       "4    1127              5240.0             0      451800.0               6  "
      ]
     },
     "execution_count": 18,
     "metadata": {},
     "output_type": "execute_result"
    }
   ],
   "source": [
    "feature_df.head()"
   ]
  },
  {
   "cell_type": "markdown",
   "id": "ae2d2c17",
   "metadata": {},
   "source": [
    "##### Seperating out the labels"
   ]
  },
  {
   "cell_type": "code",
   "execution_count": 19,
   "id": "35518d21",
   "metadata": {},
   "outputs": [],
   "source": [
    "from sklearn.model_selection import train_test_split\n",
    "\n",
    "#set up data by seperating out the labels, then split for cross validation\n",
    "data = feature_df.drop('adopted_user', axis=1)\n",
    "labels = feature_df.adopted_user\n",
    "\n",
    "X_train, y_train, X_test, y_test = train_test_split(data, labels, test_size=0.33, random_state=42)"
   ]
  },
  {
   "cell_type": "code",
   "execution_count": 20,
   "id": "0e58fc49",
   "metadata": {},
   "outputs": [
    {
     "data": {
      "text/plain": [
       "0.9709595959595959"
      ]
     },
     "execution_count": 20,
     "metadata": {},
     "output_type": "execute_result"
    }
   ],
   "source": [
    "from sklearn.ensemble import RandomForestClassifier\n",
    "\n",
    "#train and test classifier\n",
    "rf = RandomForestClassifier(class_weight='balanced_subsample')\n",
    "\n",
    "rf.fit(X_train, X_test)\n",
    "\n",
    "rf.score(y_train, y_test)"
   ]
  },
  {
   "cell_type": "code",
   "execution_count": 21,
   "id": "4a5bbd02",
   "metadata": {},
   "outputs": [
    {
     "name": "stdout",
     "output_type": "stream",
     "text": [
      "              precision    recall  f1-score   support\n",
      "\n",
      "           0       0.98      0.99      0.98      3407\n",
      "           1       0.91      0.88      0.89       553\n",
      "\n",
      "    accuracy                           0.97      3960\n",
      "   macro avg       0.95      0.93      0.94      3960\n",
      "weighted avg       0.97      0.97      0.97      3960\n",
      "\n",
      "confusion matrix:\n",
      "[[3360   47]\n",
      " [  68  485]]\n"
     ]
    }
   ],
   "source": [
    "from sklearn.metrics import classification_report, confusion_matrix\n",
    "\n",
    "#print out classification report and confusion matrix\n",
    "y_pred = rf.predict(y_train)\n",
    "\n",
    "print(classification_report(y_test, y_pred))\n",
    "\n",
    "cm= confusion_matrix(y_test,y_pred)\n",
    "print('confusion matrix:')\n",
    "print(cm)"
   ]
  },
  {
   "cell_type": "markdown",
   "id": "cb6b1aa8",
   "metadata": {},
   "source": [
    "##### Feature Importance"
   ]
  },
  {
   "cell_type": "code",
   "execution_count": 22,
   "id": "d73ba251",
   "metadata": {},
   "outputs": [
    {
     "data": {
      "text/plain": [
       "usage_length                  0.919525\n",
       "org_id                        0.023335\n",
       "invited_by_user_id            0.022975\n",
       "email_provider                0.015930\n",
       "creation_source               0.011115\n",
       "opted_in_to_mailing_list      0.003787\n",
       "enabled_for_marketing_drip    0.003333\n",
       "Name: coef, dtype: float64"
      ]
     },
     "execution_count": 22,
     "metadata": {},
     "output_type": "execute_result"
    }
   ],
   "source": [
    "#make a df that displays the cofficients indexed by feature name\n",
    "feature_importance = pd.DataFrame()\n",
    "feature_importance['coef'] = rf.feature_importances_\n",
    "feature_importance = feature_importance.set_index(data.columns)\n",
    "feature_importance.coef.nlargest(10)"
   ]
  },
  {
   "cell_type": "markdown",
   "id": "eb789000",
   "metadata": {},
   "source": [
    "##### Plotting the results"
   ]
  },
  {
   "cell_type": "code",
   "execution_count": 24,
   "id": "a1b9356f",
   "metadata": {},
   "outputs": [
    {
     "data": {
      "image/png": "[encoded data removed]",
      "text/plain": [
       "<Figure size 720x360 with 1 Axes>"
      ]
     },
     "metadata": {
      "needs_background": "light"
     },
     "output_type": "display_data"
    }
   ],
   "source": [
    "#plot the results\n",
    "import matplotlib.pyplot as plt\n",
    "plt.figure(figsize=(10,5))\n",
    "(feature_importance['coef']).nlargest(10).plot(kind='bar', x=feature_importance.index, color = 'c')\n",
    "plt.title('Random Forest Classifier Feature Importance')\n",
    "plt.ylabel('coefficient value')\n",
    "plt.show()"
   ]
  },
  {
   "cell_type": "code",
   "execution_count": 25,
   "id": "a7770662",
   "metadata": {},
   "outputs": [],
   "source": [
    "#define func to find ecdf of dataset\n",
    "def ecdf(data):\n",
    "    \"\"\"Compute ECDF for a one-dimensional array of measurements.\"\"\"\n",
    "    n = len(data)\n",
    "    x = np.sort(data)\n",
    "    y = np.arange(1, n+1) / n\n",
    "    return x, y"
   ]
  },
  {
   "cell_type": "code",
   "execution_count": 26,
   "id": "c13eddf4",
   "metadata": {},
   "outputs": [],
   "source": [
    "adopted = feature_df.usage_length.loc[feature_df['adopted_user'] == 1]\n",
    "not_adopted = feature_df.usage_length.loc[feature_df['adopted_user'] == 0]"
   ]
  },
  {
   "cell_type": "code",
   "execution_count": 28,
   "id": "a8093f13",
   "metadata": {},
   "outputs": [
    {
     "data": {
      "image/png": "[encoded data removed]",
      "text/plain": [
       "<Figure size 720x360 with 1 Axes>"
      ]
     },
     "metadata": {
      "needs_background": "light"
     },
     "output_type": "display_data"
    }
   ],
   "source": [
    "#set fig size\n",
    "%matplotlib inline\n",
    "plt.figure(figsize=(10,5))\n",
    "\n",
    "x_active, y_active = ecdf(adopted)\n",
    "x_inactive, y_inactive = ecdf(not_adopted)\n",
    "\n",
    "plt.plot(x_active, y_active, marker='.', linestyle='none',color = 'g')\n",
    "plt.plot(x_inactive, y_inactive, marker='.', linestyle='none', color = 'r')\n",
    "plt.title('Length of Usage b/w Adopted and Not Adpoted Users')\n",
    "plt.xlabel('Length of Usage (Seconds)')\n",
    "plt.ylabel('ECDF')\n",
    "plt.legend(['adopted', 'not adopted'])\n",
    "plt.show()"
   ]
  },
  {
   "cell_type": "code",
   "execution_count": null,
   "id": "9b24c28a",
   "metadata": {},
   "outputs": [],
   "source": []
  },
  {
   "cell_type": "code",
   "execution_count": null,
   "id": "3571a3d4",
   "metadata": {},
   "outputs": [],
   "source": []
  },
  {
   "cell_type": "code",
   "execution_count": null,
   "id": "bd7980ff",
   "metadata": {},
   "outputs": [],
   "source": []
  }
 ],
 "metadata": {
  "kernelspec": {
   "display_name": "Python 3 (ipykernel)",
   "language": "python",
   "name": "python3"
  },
  "language_info": {
   "codemirror_mode": {
    "name": "ipython",
    "version": 3
   },
   "file_extension": ".py",
   "mimetype": "text/x-python",
   "name": "python",
   "nbconvert_exporter": "python",
   "pygments_lexer": "ipython3",
   "version": "3.9.12"
  }
 },
 "nbformat": 4,
 "nbformat_minor": 5
}
